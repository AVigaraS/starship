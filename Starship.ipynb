{
 "cells": [
  {
   "cell_type": "markdown",
   "metadata": {},
   "source": [
    "Codigo para obtener los datos de vuelo de starship de los videos de los lanzamientos"
   ]
  },
  {
   "cell_type": "markdown",
   "metadata": {},
   "source": [
    "Obtener la posicion del raton en pantalla para obtener los rectangulos a capturar. Es util para obtener las posiciones de la pantalla a capturar\n",
    "\n",
    "Tambien se puede hacer una captura de pantalla completa con paint y poner los valores directamente"
   ]
  },
  {
   "cell_type": "code",
   "execution_count": 14,
   "metadata": {},
   "outputs": [
    {
     "name": "stdout",
     "output_type": "stream",
     "text": [
      "Posición del ratón: (-984, 265)\n",
      "Posición del ratón: (1220, 836)\n",
      "Posición del ratón: (1190, 833)\n",
      "Posición del ratón: (1189, 829)\n",
      "Posición del ratón: (1189, 829)\n",
      "Posición del ratón: (1189, 829)\n",
      "Posición del ratón: (1189, 829)\n",
      "Posición del ratón: (1189, 829)\n",
      "Posición del ratón: (1189, 829)\n",
      "Posición del ratón: (1235, 843)\n",
      "Posición del ratón: (1234, 846)\n",
      "Posición del ratón: (1235, 849)\n",
      "Posición del ratón: (1235, 849)\n",
      "Posición del ratón: (1235, 849)\n",
      "Posición del ratón: (1235, 849)\n",
      "Posición del ratón: (1235, 849)\n",
      "Posición del ratón: (1235, 849)\n",
      "Posición del ratón: (-803, 324)\n",
      "Programa terminado\n"
     ]
    }
   ],
   "source": [
    "import pyautogui\n",
    "import time\n",
    "\n",
    "try:\n",
    "    while True:\n",
    "        # Obtiene la posición del ratón\n",
    "        x, y = pyautogui.position()\n",
    "        # Imprime la posición\n",
    "        print(f'Posición del ratón: ({x}, {y})')\n",
    "        # Espera un poco antes de obtener la siguiente posición\n",
    "        time.sleep(1)\n",
    "except KeyboardInterrupt:\n",
    "    print('Programa terminado')"
   ]
  },
  {
   "cell_type": "code",
   "execution_count": 1,
   "metadata": {},
   "outputs": [],
   "source": [
    "# Definir las regiones de los rectángulos (left, top, width, height)\n",
    "#La funcion rectangulo te calcula el rectangulo dados la \n",
    "# esquina superior izquierda y la esquina inferior derecha\n",
    "\n",
    "def rectangulo(a, b, c, d):\n",
    "    return (a, b, c - a, d - b)\n",
    "\n",
    "rectangles = [\n",
    "    ('Hora', rectangulo(708, 829,742, 855)),\n",
    "    ('Minuto', rectangulo(748, 830,782, 854)),\n",
    "    ('Segundo', rectangulo(787, 829,821, 855)),\n",
    "    ('Velocidad Booster', rectangulo(313, 802, 376, 822)),\n",
    "    ('Altura Booster', rectangulo(331, 829,376, 848)),\n",
    "    ('Velocidad Starship', rectangulo(1147, 804,1233, 823)),\n",
    "    ('Altura Starhip', rectangulo(1189, 829,1235, 849))\n",
    "]"
   ]
  },
  {
   "cell_type": "markdown",
   "metadata": {},
   "source": [
    "Script para obtener los datos de vuelo"
   ]
  },
  {
   "cell_type": "code",
   "execution_count": 2,
   "metadata": {},
   "outputs": [],
   "source": [
    "#Importamos librerias\n",
    "import pyautogui\n",
    "import cv2\n",
    "import pandas as pd\n",
    "from datetime import datetime\n",
    "from concurrent.futures import ThreadPoolExecutor, as_completed\n",
    "import numpy as np\n",
    "import easyocr"
   ]
  },
  {
   "cell_type": "code",
   "execution_count": 3,
   "metadata": {},
   "outputs": [
    {
     "name": "stderr",
     "output_type": "stream",
     "text": [
      "Neither CUDA nor MPS are available - defaulting to CPU. Note: This module is much faster with a GPU.\n"
     ]
    }
   ],
   "source": [
    "reader = easyocr.Reader(['en'])\n",
    "\n",
    "def capture_region(region):\n",
    "    screenshot = pyautogui.screenshot(region=region)\n",
    "    return cv2.cvtColor(np.array(screenshot), cv2.COLOR_RGB2BGR)\n",
    "\n",
    "def extract_text_from_image(image):\n",
    "    gray = cv2.cvtColor(image, cv2.COLOR_BGR2GRAY)\n",
    "    results = reader.readtext(gray, detail=0)\n",
    "    text = ' '.join(results)\n",
    "    return text.strip()\n",
    "\n",
    "def process_region(name, region):\n",
    "    image = capture_region(region)\n",
    "    text = extract_text_from_image(image)\n",
    "    return name, text\n",
    "\n",
    "results = []\n",
    "\n",
    "id = 0"
   ]
  },
  {
   "cell_type": "code",
   "execution_count": 4,
   "metadata": {},
   "outputs": [
    {
     "ename": "KeyboardInterrupt",
     "evalue": "",
     "output_type": "error",
     "traceback": [
      "\u001b[1;31m---------------------------------------------------------------------------\u001b[0m",
      "\u001b[1;31mKeyboardInterrupt\u001b[0m                         Traceback (most recent call last)",
      "Cell \u001b[1;32mIn[4], line 5\u001b[0m\n\u001b[0;32m      3\u001b[0m row \u001b[38;5;241m=\u001b[39m {\u001b[38;5;124m'\u001b[39m\u001b[38;5;124mid\u001b[39m\u001b[38;5;124m'\u001b[39m: \u001b[38;5;28mid\u001b[39m}\n\u001b[0;32m      4\u001b[0m \u001b[38;5;28;01mwith\u001b[39;00m ThreadPoolExecutor(max_workers\u001b[38;5;241m=\u001b[39m\u001b[38;5;28mlen\u001b[39m(rectangles)) \u001b[38;5;28;01mas\u001b[39;00m executor:\n\u001b[1;32m----> 5\u001b[0m     futures \u001b[38;5;241m=\u001b[39m {\u001b[43mexecutor\u001b[49m\u001b[38;5;241;43m.\u001b[39;49m\u001b[43msubmit\u001b[49m\u001b[43m(\u001b[49m\u001b[43mprocess_region\u001b[49m\u001b[43m,\u001b[49m\u001b[43m \u001b[49m\u001b[43mname\u001b[49m\u001b[43m,\u001b[49m\u001b[43m \u001b[49m\u001b[43mregion\u001b[49m\u001b[43m)\u001b[49m: name \u001b[38;5;28;01mfor\u001b[39;00m name, region \u001b[38;5;129;01min\u001b[39;00m rectangles}\n\u001b[0;32m      6\u001b[0m     \u001b[38;5;28;01mfor\u001b[39;00m future \u001b[38;5;129;01min\u001b[39;00m as_completed(futures):\n\u001b[0;32m      7\u001b[0m         name, text \u001b[38;5;241m=\u001b[39m future\u001b[38;5;241m.\u001b[39mresult()\n",
      "File \u001b[1;32mC:\\Program Files\\Python312\\Lib\\concurrent\\futures\\thread.py:179\u001b[0m, in \u001b[0;36mThreadPoolExecutor.submit\u001b[1;34m(self, fn, *args, **kwargs)\u001b[0m\n\u001b[0;32m    176\u001b[0m w \u001b[38;5;241m=\u001b[39m _WorkItem(f, fn, args, kwargs)\n\u001b[0;32m    178\u001b[0m \u001b[38;5;28mself\u001b[39m\u001b[38;5;241m.\u001b[39m_work_queue\u001b[38;5;241m.\u001b[39mput(w)\n\u001b[1;32m--> 179\u001b[0m \u001b[38;5;28;43mself\u001b[39;49m\u001b[38;5;241;43m.\u001b[39;49m\u001b[43m_adjust_thread_count\u001b[49m\u001b[43m(\u001b[49m\u001b[43m)\u001b[49m\n\u001b[0;32m    180\u001b[0m \u001b[38;5;28;01mreturn\u001b[39;00m f\n",
      "File \u001b[1;32mC:\\Program Files\\Python312\\Lib\\concurrent\\futures\\thread.py:202\u001b[0m, in \u001b[0;36mThreadPoolExecutor._adjust_thread_count\u001b[1;34m(self)\u001b[0m\n\u001b[0;32m    195\u001b[0m thread_name \u001b[38;5;241m=\u001b[39m \u001b[38;5;124m'\u001b[39m\u001b[38;5;132;01m%s\u001b[39;00m\u001b[38;5;124m_\u001b[39m\u001b[38;5;132;01m%d\u001b[39;00m\u001b[38;5;124m'\u001b[39m \u001b[38;5;241m%\u001b[39m (\u001b[38;5;28mself\u001b[39m\u001b[38;5;241m.\u001b[39m_thread_name_prefix \u001b[38;5;129;01mor\u001b[39;00m \u001b[38;5;28mself\u001b[39m,\n\u001b[0;32m    196\u001b[0m                          num_threads)\n\u001b[0;32m    197\u001b[0m t \u001b[38;5;241m=\u001b[39m threading\u001b[38;5;241m.\u001b[39mThread(name\u001b[38;5;241m=\u001b[39mthread_name, target\u001b[38;5;241m=\u001b[39m_worker,\n\u001b[0;32m    198\u001b[0m                      args\u001b[38;5;241m=\u001b[39m(weakref\u001b[38;5;241m.\u001b[39mref(\u001b[38;5;28mself\u001b[39m, weakref_cb),\n\u001b[0;32m    199\u001b[0m                            \u001b[38;5;28mself\u001b[39m\u001b[38;5;241m.\u001b[39m_work_queue,\n\u001b[0;32m    200\u001b[0m                            \u001b[38;5;28mself\u001b[39m\u001b[38;5;241m.\u001b[39m_initializer,\n\u001b[0;32m    201\u001b[0m                            \u001b[38;5;28mself\u001b[39m\u001b[38;5;241m.\u001b[39m_initargs))\n\u001b[1;32m--> 202\u001b[0m \u001b[43mt\u001b[49m\u001b[38;5;241;43m.\u001b[39;49m\u001b[43mstart\u001b[49m\u001b[43m(\u001b[49m\u001b[43m)\u001b[49m\n\u001b[0;32m    203\u001b[0m \u001b[38;5;28mself\u001b[39m\u001b[38;5;241m.\u001b[39m_threads\u001b[38;5;241m.\u001b[39madd(t)\n\u001b[0;32m    204\u001b[0m _threads_queues[t] \u001b[38;5;241m=\u001b[39m \u001b[38;5;28mself\u001b[39m\u001b[38;5;241m.\u001b[39m_work_queue\n",
      "File \u001b[1;32mC:\\Program Files\\Python312\\Lib\\threading.py:997\u001b[0m, in \u001b[0;36mThread.start\u001b[1;34m(self)\u001b[0m\n\u001b[0;32m    995\u001b[0m         \u001b[38;5;28;01mdel\u001b[39;00m _limbo[\u001b[38;5;28mself\u001b[39m]\n\u001b[0;32m    996\u001b[0m     \u001b[38;5;28;01mraise\u001b[39;00m\n\u001b[1;32m--> 997\u001b[0m \u001b[38;5;28;43mself\u001b[39;49m\u001b[38;5;241;43m.\u001b[39;49m\u001b[43m_started\u001b[49m\u001b[38;5;241;43m.\u001b[39;49m\u001b[43mwait\u001b[49m\u001b[43m(\u001b[49m\u001b[43m)\u001b[49m\n",
      "File \u001b[1;32mC:\\Program Files\\Python312\\Lib\\threading.py:655\u001b[0m, in \u001b[0;36mEvent.wait\u001b[1;34m(self, timeout)\u001b[0m\n\u001b[0;32m    653\u001b[0m signaled \u001b[38;5;241m=\u001b[39m \u001b[38;5;28mself\u001b[39m\u001b[38;5;241m.\u001b[39m_flag\n\u001b[0;32m    654\u001b[0m \u001b[38;5;28;01mif\u001b[39;00m \u001b[38;5;129;01mnot\u001b[39;00m signaled:\n\u001b[1;32m--> 655\u001b[0m     signaled \u001b[38;5;241m=\u001b[39m \u001b[38;5;28;43mself\u001b[39;49m\u001b[38;5;241;43m.\u001b[39;49m\u001b[43m_cond\u001b[49m\u001b[38;5;241;43m.\u001b[39;49m\u001b[43mwait\u001b[49m\u001b[43m(\u001b[49m\u001b[43mtimeout\u001b[49m\u001b[43m)\u001b[49m\n\u001b[0;32m    656\u001b[0m \u001b[38;5;28;01mreturn\u001b[39;00m signaled\n",
      "File \u001b[1;32mC:\\Program Files\\Python312\\Lib\\threading.py:355\u001b[0m, in \u001b[0;36mCondition.wait\u001b[1;34m(self, timeout)\u001b[0m\n\u001b[0;32m    353\u001b[0m \u001b[38;5;28;01mtry\u001b[39;00m:    \u001b[38;5;66;03m# restore state no matter what (e.g., KeyboardInterrupt)\u001b[39;00m\n\u001b[0;32m    354\u001b[0m     \u001b[38;5;28;01mif\u001b[39;00m timeout \u001b[38;5;129;01mis\u001b[39;00m \u001b[38;5;28;01mNone\u001b[39;00m:\n\u001b[1;32m--> 355\u001b[0m         \u001b[43mwaiter\u001b[49m\u001b[38;5;241;43m.\u001b[39;49m\u001b[43macquire\u001b[49m\u001b[43m(\u001b[49m\u001b[43m)\u001b[49m\n\u001b[0;32m    356\u001b[0m         gotit \u001b[38;5;241m=\u001b[39m \u001b[38;5;28;01mTrue\u001b[39;00m\n\u001b[0;32m    357\u001b[0m     \u001b[38;5;28;01melse\u001b[39;00m:\n",
      "\u001b[1;31mKeyboardInterrupt\u001b[0m: "
     ]
    }
   ],
   "source": [
    "#Si se quiere hacer hasta pararlo tu manualmente\n",
    "while True:\n",
    "    row = {'id': id}\n",
    "    with ThreadPoolExecutor(max_workers=len(rectangles)) as executor:\n",
    "        futures = {executor.submit(process_region, name, region): name for name, region in rectangles}\n",
    "        for future in as_completed(futures):\n",
    "            name, text = future.result()\n",
    "            row[name] = text\n",
    "    # print(row)\n",
    "    results.append(row)\n",
    "    id = id + 1"
   ]
  },
  {
   "cell_type": "code",
   "execution_count": 5,
   "metadata": {},
   "outputs": [],
   "source": [
    "#Si se quiere hacer hasta x veces\n",
    "\n",
    "numeroDeVeces = 10\n",
    "\n",
    "for _ in range(10):\n",
    "    row = {'id': id}\n",
    "    with ThreadPoolExecutor(max_workers=len(rectangles)) as executor:\n",
    "        futures = {executor.submit(process_region, name, region): name for name, region in rectangles}\n",
    "        for future in as_completed(futures):\n",
    "            name, text = future.result()\n",
    "            row[name] = text\n",
    "    results.append(row)\n",
    "    id = id + 1"
   ]
  },
  {
   "cell_type": "code",
   "execution_count": 5,
   "metadata": {},
   "outputs": [
    {
     "name": "stdout",
     "output_type": "stream",
     "text": [
      "Datos guardados en output.csv\n"
     ]
    }
   ],
   "source": [
    "#Guardamos datos\n",
    "df = pd.DataFrame(results)\n",
    "df.to_csv('output.csv', index=False)\n",
    "\n",
    "print(\"Datos guardados en output.csv\")"
   ]
  }
 ],
 "metadata": {
  "kernelspec": {
   "display_name": "starship",
   "language": "python",
   "name": "python3"
  },
  "language_info": {
   "codemirror_mode": {
    "name": "ipython",
    "version": 3
   },
   "file_extension": ".py",
   "mimetype": "text/x-python",
   "name": "python",
   "nbconvert_exporter": "python",
   "pygments_lexer": "ipython3",
   "version": "3.12.4"
  }
 },
 "nbformat": 4,
 "nbformat_minor": 2
}
